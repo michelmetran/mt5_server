{
 "cells": [
  {
   "cell_type": "markdown",
   "id": "2216ab2a63c35030",
   "metadata": {},
   "source": [
    "<br>\n",
    "\n",
    "# Introdução"
   ]
  },
  {
   "cell_type": "code",
   "execution_count": null,
   "id": "f2e4c179",
   "metadata": {
    "is_executing": true
   },
   "outputs": [],
   "source": [
    "#!pip3 install rpyc\n",
    "!pip3 uninstall mt5linux"
   ]
  },
  {
   "cell_type": "code",
   "execution_count": null,
   "id": "initial_id",
   "metadata": {},
   "outputs": [],
   "source": [
    "import rpyc"
   ]
  },
  {
   "cell_type": "code",
   "execution_count": null,
   "id": "db108a8ae5516ac8",
   "metadata": {},
   "outputs": [],
   "source": [
    "PORT = 18812"
   ]
  },
  {
   "cell_type": "code",
   "execution_count": null,
   "id": "af241265e68b0496",
   "metadata": {},
   "outputs": [],
   "source": [
    "c = rpyc.connect('localhost', port=PORT)"
   ]
  },
  {
   "cell_type": "code",
   "execution_count": null,
   "id": "a495332193dfe412",
   "metadata": {},
   "outputs": [],
   "source": [
    "c"
   ]
  },
  {
   "cell_type": "code",
   "execution_count": null,
   "id": "518a9fc8",
   "metadata": {},
   "outputs": [],
   "source": [
    "c = rpyc.connect('192.168.31.251', port=PORT)"
   ]
  },
  {
   "cell_type": "code",
   "execution_count": null,
   "id": "b502ede6efd5e670",
   "metadata": {},
   "outputs": [],
   "source": [
    "c = rpyc.connect('nitro', port=PORT)"
   ]
  },
  {
   "cell_type": "code",
   "execution_count": null,
   "id": "c6461c59",
   "metadata": {},
   "outputs": [],
   "source": [
    "c"
   ]
  },
  {
   "cell_type": "code",
   "execution_count": null,
   "id": "bf12d306d5379450",
   "metadata": {},
   "outputs": [],
   "source": [
    "c.root"
   ]
  },
  {
   "cell_type": "code",
   "execution_count": null,
   "id": "a28b7baba324c735",
   "metadata": {},
   "outputs": [],
   "source": []
  }
 ],
 "metadata": {
  "kernelspec": {
   "display_name": "Python 3",
   "language": "python",
   "name": "python3"
  },
  "language_info": {
   "codemirror_mode": {
    "name": "ipython",
    "version": 3
   },
   "file_extension": ".py",
   "mimetype": "text/x-python",
   "name": "python",
   "nbconvert_exporter": "python",
   "pygments_lexer": "ipython3",
   "version": "3.10.8"
  }
 },
 "nbformat": 4,
 "nbformat_minor": 5
}
